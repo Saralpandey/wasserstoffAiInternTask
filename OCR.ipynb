{
 "cells": [
  {
   "cell_type": "markdown",
   "id": "6bcd7abd",
   "metadata": {},
   "source": [
    "# code for OCR implementation"
   ]
  },
  {
   "cell_type": "code",
   "execution_count": 5,
   "id": "ad3ba89d",
   "metadata": {},
   "outputs": [],
   "source": [
    "import cv2\n",
    "import pytesseract\n",
    "from PIL import Image\n",
    "import os"
   ]
  },
  {
   "cell_type": "code",
   "execution_count": 6,
   "id": "8061d3b1",
   "metadata": {},
   "outputs": [],
   "source": [
    "# Configure Tesseract path (Windows users might need this)\n",
    "pytesseract.pytesseract.tesseract_cmd = r'C:\\Program Files\\Tesseract-OCR\\tesseract.exe'"
   ]
  },
  {
   "cell_type": "code",
   "execution_count": 7,
   "id": "9019b67e",
   "metadata": {},
   "outputs": [],
   "source": [
    "def ocr_from_image(image_path):\n",
    "    \"\"\"\n",
    "    Extracts text from an image using OCR.\n",
    "    \n",
    "    Args:\n",
    "        image_path (str): Path to the image file.\n",
    "        \n",
    "    Returns:\n",
    "        str: Extracted text from the image.\n",
    "    \"\"\"\n",
    "    # Step 1: Load the image\n",
    "    image = cv2.imread(image_path)\n",
    "\n",
    "    # Step 2: Convert the image to grayscale\n",
    "    gray_image = cv2.cvtColor(image, cv2.COLOR_BGR2GRAY)\n",
    "\n",
    "    # Step 3: Apply some preprocessing (optional but recommended)\n",
    "    gray_image = cv2.medianBlur(gray_image, 3)\n",
    "\n",
    "    # Step 4: Perform OCR using Tesseract\n",
    "    extracted_text = pytesseract.image_to_string(gray_image)\n",
    "\n",
    "    return extracted_text"
   ]
  },
  {
   "cell_type": "code",
   "execution_count": 8,
   "id": "e65c2581",
   "metadata": {},
   "outputs": [
    {
     "name": "stdout",
     "output_type": "stream",
     "text": [
      "Extracted Text:\n",
      " The best lines i ever heard,\n",
      "\n",
      "Kal bhi musafir tha,\n",
      "Aaj bhi musafir hu.\n",
      "\n",
      "Kal apno ki talash mai tha,\n",
      "\n",
      "Aaj apni talash mai hun.» <®\n",
      "\n"
     ]
    }
   ],
   "source": [
    "# Example usage:\n",
    "if __name__ == \"__main__\":\n",
    "    text = ocr_from_image('Shayari.jpeg')\n",
    "    print(\"Extracted Text:\\n\", text)"
   ]
  },
  {
   "cell_type": "code",
   "execution_count": null,
   "id": "18b8f8b1",
   "metadata": {},
   "outputs": [],
   "source": []
  },
  {
   "cell_type": "code",
   "execution_count": null,
   "id": "456c6f4b",
   "metadata": {},
   "outputs": [],
   "source": []
  },
  {
   "cell_type": "code",
   "execution_count": null,
   "id": "ce05d826",
   "metadata": {},
   "outputs": [],
   "source": []
  },
  {
   "cell_type": "code",
   "execution_count": null,
   "id": "238479ef",
   "metadata": {},
   "outputs": [],
   "source": []
  },
  {
   "cell_type": "code",
   "execution_count": null,
   "id": "fc6cf561",
   "metadata": {},
   "outputs": [],
   "source": []
  },
  {
   "cell_type": "code",
   "execution_count": null,
   "id": "900f27e9",
   "metadata": {},
   "outputs": [],
   "source": []
  }
 ],
 "metadata": {
  "kernelspec": {
   "display_name": "Python 3",
   "language": "python",
   "name": "python3"
  },
  "language_info": {
   "codemirror_mode": {
    "name": "ipython",
    "version": 3
   },
   "file_extension": ".py",
   "mimetype": "text/x-python",
   "name": "python",
   "nbconvert_exporter": "python",
   "pygments_lexer": "ipython3",
   "version": "3.12.6"
  }
 },
 "nbformat": 4,
 "nbformat_minor": 5
}
